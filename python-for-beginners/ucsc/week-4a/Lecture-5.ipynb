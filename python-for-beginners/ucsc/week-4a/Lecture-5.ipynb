{
 "cells": [
  {
   "cell_type": "markdown",
   "metadata": {},
   "source": [
    "## Lecture 5"
   ]
  },
  {
   "cell_type": "markdown",
   "metadata": {},
   "source": [
    "## Developing Python Scripts\n",
    "-  We have few choices\n",
    "   - run python3 and enter python code interactively\n",
    "   - run ipython and enter python code interactively\n",
    "   - jupyter notebook\n",
    "   - bpython https://www.bpython-interpreter.org/\n",
    "   - All the above approaches wont be practical in a production setting\n",
    "   - use tools such as idle, pycharm, atom, brackets, sublime\n",
    "     - use a text editor, enter python code and save it as a file with .py extension (e.g.: filename.py)\n",
    "     - python3 filename.py\n",
    "       - filename.py is also called as a python **script**"
   ]
  },
  {
   "cell_type": "markdown",
   "metadata": {},
   "source": [
    "## When Script Becomes Too Large\n",
    "- We refactor and organize code into many smaller files"
   ]
  },
  {
   "cell_type": "markdown",
   "metadata": {},
   "source": [
    "## What is a Module?\n",
    "\n",
    "![Script](images/Lecture-5.002.png)\n",
    "\n",
    "-  A module is a python script file containing functions and class definitions, variables  and statements\n",
    "-  We dont want to reinvent the wheel\n",
    "   - Leverage the code provided by standard python modules, packages and the open source community"
   ]
  },
  {
   "cell_type": "markdown",
   "metadata": {},
   "source": [
    "-  Lets say we have a script.py\n",
    "   - it has functions foo(),  bar() defined\n",
    "-  In order to improve code readability we are splitting script.py into 2 files\n",
    "   1.  script.py\n",
    "   2.  foobar.py\n",
    "- This **wont work** because within script.py the python interpreter will not be able to search and locate foo() and bar() functions which are defined elsewhere\n",
    "  - It will look for the functions in its symbol table and wont find them\n",
    "  - The python interpreter needs to be told about foobar.py where foo() and bar() are defined\n",
    "\n",
    "\n",
    "## script-orig.py"
   ]
  },
  {
   "cell_type": "code",
   "execution_count": 1,
   "metadata": {},
   "outputs": [
    {
     "name": "stdout",
     "output_type": "stream",
     "text": [
      "\r\n",
      "print(\"File Name: {} Module Name: {}\".format(__file__, __name__))\r\n",
      "\r\n",
      "print(\"\\nSymbol Table 1: \", dir()) # dir() without arguments, return names in current scope\r\n",
      "\r\n",
      "def foo():\r\n",
      "    print(\"In foo\")\r\n",
      "\r\n",
      "print(\"\\nSymbol Table 2: \", dir())  # names in current scope\r\n",
      " \r\n",
      "def bar():\r\n",
      "    print(\"In bar\")\r\n",
      "\r\n",
      "print(\"\\nSymbol Table 3: \", dir())  # names in current scope\r\n",
      "\r\n",
      "print(\"\\nCalling foo() ...\")\r\n",
      "foo()\r\n",
      "\r\n",
      "print(\"\\nCalling bar() ...\")\r\n",
      "bar()\r\n"
     ]
    }
   ],
   "source": [
    "!cat code/script-orig.py"
   ]
  },
  {
   "cell_type": "markdown",
   "metadata": {},
   "source": [
    "## Execute script-orig.py"
   ]
  },
  {
   "cell_type": "code",
   "execution_count": 2,
   "metadata": {},
   "outputs": [
    {
     "name": "stdout",
     "output_type": "stream",
     "text": [
      "File Name: code/script-orig.py Module Name: __main__\r\n",
      "\r\n",
      "Symbol Table 1:  ['__builtins__', '__cached__', '__doc__', '__file__', '__loader__', '__name__', '__package__', '__spec__']\r\n",
      "\r\n",
      "Symbol Table 2:  ['__builtins__', '__cached__', '__doc__', '__file__', '__loader__', '__name__', '__package__', '__spec__', 'foo']\r\n",
      "\r\n",
      "Symbol Table 3:  ['__builtins__', '__cached__', '__doc__', '__file__', '__loader__', '__name__', '__package__', '__spec__', 'bar', 'foo']\r\n",
      "\r\n",
      "Calling foo() ...\r\n",
      "In foo\r\n",
      "\r\n",
      "Calling bar() ...\r\n",
      "In bar\r\n"
     ]
    }
   ],
   "source": [
    "!python3 code/script-orig.py"
   ]
  },
  {
   "cell_type": "markdown",
   "metadata": {},
   "source": [
    "![Script](images/Lecture-5.003.png)"
   ]
  },
  {
   "cell_type": "markdown",
   "metadata": {},
   "source": [
    "## Import Statement\n",
    "\n",
    "![Script](images/Lecture-5.004.png)\n",
    "\n",
    "```\n",
    "import foobar\n",
    "```\n",
    "- Python runs all code in the foobar.py file\n",
    "\n",
    "- Where will the interpreter search looking for functions or variables or classes\n",
    "  - path specified by a path list in the module sys  called sys.path\n",
    "    - look inside python's builtin module\n",
    "    - directories pointed by PYTHONPATH environment variable\n",
    "    - default path as specified in python installation"
   ]
  },
  {
   "cell_type": "markdown",
   "metadata": {},
   "source": [
    "## script.py"
   ]
  },
  {
   "cell_type": "code",
   "execution_count": 3,
   "metadata": {},
   "outputs": [
    {
     "name": "stdout",
     "output_type": "stream",
     "text": [
      "\r\n",
      "print(\"File Name: {} Module Name: {}\".format( __file__, __name__))\r\n",
      "\r\n",
      "print(\"\\nSymbol Table 1 {} {}:\".format(__file__, dir())) # names in current scope\r\n",
      "import foobar\r\n",
      "\r\n",
      "print(\"\\nSymbol Table 2 {} {}:\".format(__file__, dir())) # names in current scope\r\n",
      "\r\n",
      "print(\"\\nSymbol Table 3 {} {}:\".format(__file__, dir(foobar))) # names in foobar\r\n",
      "\r\n",
      "foobar.foo()\r\n",
      "foobar.bar()\r\n",
      "\r\n"
     ]
    }
   ],
   "source": [
    "!cat code/script.py"
   ]
  },
  {
   "cell_type": "markdown",
   "metadata": {},
   "source": [
    "## foobar.py"
   ]
  },
  {
   "cell_type": "code",
   "execution_count": 4,
   "metadata": {},
   "outputs": [
    {
     "name": "stdout",
     "output_type": "stream",
     "text": [
      "\r\n",
      "print(\"\\nFile Name: {} Module Name: {}\".format( __file__, __name__))\r\n",
      "\r\n",
      "\r\n",
      "def foo():\r\n",
      "    print(\"In foo\")\r\n",
      "\r\n",
      "def bar():\r\n",
      "    print(\"In bar\")\r\n",
      "\r\n",
      "print(\"Symbol Table {} {}:\".format(__file__, dir())) # names in current scope\r\n"
     ]
    }
   ],
   "source": [
    "!cat code/foobar.py"
   ]
  },
  {
   "cell_type": "code",
   "execution_count": 5,
   "metadata": {},
   "outputs": [
    {
     "name": "stdout",
     "output_type": "stream",
     "text": [
      "File Name: code/script.py Module Name: __main__\r\n",
      "\r\n",
      "Symbol Table 1 code/script.py ['__builtins__', '__cached__', '__doc__', '__file__', '__loader__', '__name__', '__package__', '__spec__']:\r\n",
      "\r\n",
      "File Name: /home/kripa/python-for-beginners/ucsc/week-4a/code/foobar.py Module Name: foobar\r\n",
      "Symbol Table /home/kripa/python-for-beginners/ucsc/week-4a/code/foobar.py ['__builtins__', '__cached__', '__doc__', '__file__', '__loader__', '__name__', '__package__', '__spec__', 'bar', 'foo']:\r\n",
      "\r\n",
      "Symbol Table 2 code/script.py ['__builtins__', '__cached__', '__doc__', '__file__', '__loader__', '__name__', '__package__', '__spec__', 'foobar']:\r\n",
      "\r\n",
      "Symbol Table 3 code/script.py ['__builtins__', '__cached__', '__doc__', '__file__', '__loader__', '__name__', '__package__', '__spec__', 'bar', 'foo']:\r\n",
      "In foo\r\n",
      "In bar\r\n"
     ]
    }
   ],
   "source": [
    "!python3 code/script.py"
   ]
  },
  {
   "cell_type": "markdown",
   "metadata": {},
   "source": [
    "## Import Error\n",
    "- What happens if we import a module, which python cannot find?\n",
    "  - It raises an import error"
   ]
  },
  {
   "cell_type": "code",
   "execution_count": 6,
   "metadata": {},
   "outputs": [
    {
     "ename": "ImportError",
     "evalue": "No module named 'module_not_found'",
     "output_type": "error",
     "traceback": [
      "\u001b[0;31m---------------------------------------------------------------------------\u001b[0m",
      "\u001b[0;31mImportError\u001b[0m                               Traceback (most recent call last)",
      "\u001b[0;32m<ipython-input-6-dc02a45af00e>\u001b[0m in \u001b[0;36m<module>\u001b[0;34m()\u001b[0m\n\u001b[0;32m----> 1\u001b[0;31m \u001b[0;32mimport\u001b[0m \u001b[0mmodule_not_found\u001b[0m\u001b[0;34m\u001b[0m\u001b[0m\n\u001b[0m",
      "\u001b[0;31mImportError\u001b[0m: No module named 'module_not_found'"
     ]
    }
   ],
   "source": [
    "import module_not_found"
   ]
  },
  {
   "cell_type": "markdown",
   "metadata": {},
   "source": [
    "## path.py"
   ]
  },
  {
   "cell_type": "code",
   "execution_count": 7,
   "metadata": {},
   "outputs": [
    {
     "name": "stdout",
     "output_type": "stream",
     "text": [
      "print(\"File Name: {} Module Name: {}\".format( __file__, __name__))\r\n",
      "\r\n",
      "import sys\r\n",
      "\r\n",
      "print(\"Printing, sys.path  ...\")\r\n",
      "for dirpath in sys.path:\r\n",
      "    print(dirpath)\r\n",
      "\r\n"
     ]
    }
   ],
   "source": [
    "!cat code/path.py"
   ]
  },
  {
   "cell_type": "code",
   "execution_count": 8,
   "metadata": {},
   "outputs": [
    {
     "name": "stdout",
     "output_type": "stream",
     "text": [
      "File Name: code/path.py Module Name: __main__\r\n",
      "Printing, sys.path  ...\r\n",
      "/home/kripa/python-for-beginners/ucsc/week-4a/code\r\n",
      "/home/kripa/caffe/python\r\n",
      "/home/kripa/python-for-beginners/ucsc/week-4a\r\n",
      "/usr/lib/python35.zip\r\n",
      "/usr/lib/python3.5\r\n",
      "/usr/lib/python3.5/plat-x86_64-linux-gnu\r\n",
      "/usr/lib/python3.5/lib-dynload\r\n",
      "/home/kripa/.local/lib/python3.5/site-packages\r\n",
      "/usr/local/lib/python3.5/dist-packages\r\n",
      "/usr/lib/python3/dist-packages\r\n"
     ]
    }
   ],
   "source": [
    "!python3 code/path.py"
   ]
  },
  {
   "cell_type": "markdown",
   "metadata": {},
   "source": [
    "## env.py"
   ]
  },
  {
   "cell_type": "code",
   "execution_count": 9,
   "metadata": {},
   "outputs": [
    {
     "name": "stdout",
     "output_type": "stream",
     "text": [
      "print(\"File Name: {} Module Name: {}\".format( __file__, __name__))\r\n",
      "\r\n",
      "import sys \r\n",
      "import os\r\n",
      "\r\n",
      "print(\"\\nPYTHONPATH environment variable: \", os.environ['PYTHONPATH'])\r\n",
      "\r\n",
      "print(\"Printing, sys.path  ...\")\r\n",
      "for dirpath in sys.path:\r\n",
      "    print(dirpath)\r\n",
      "\r\n"
     ]
    }
   ],
   "source": [
    "!cat code/env.py"
   ]
  },
  {
   "cell_type": "code",
   "execution_count": 10,
   "metadata": {},
   "outputs": [
    {
     "name": "stdout",
     "output_type": "stream",
     "text": [
      "File Name: code/env.py Module Name: __main__\r\n",
      "\r\n",
      "PYTHONPATH environment variable:  /fake/path/foo/bar\r\n",
      "Printing, sys.path  ...\r\n",
      "/home/kripa/python-for-beginners/ucsc/week-4a/code\r\n",
      "/fake/path/foo/bar\r\n",
      "/usr/lib/python35.zip\r\n",
      "/usr/lib/python3.5\r\n",
      "/usr/lib/python3.5/plat-x86_64-linux-gnu\r\n",
      "/usr/lib/python3.5/lib-dynload\r\n",
      "/home/kripa/.local/lib/python3.5/site-packages\r\n",
      "/usr/local/lib/python3.5/dist-packages\r\n",
      "/usr/lib/python3/dist-packages\r\n"
     ]
    }
   ],
   "source": [
    "!(export PYTHONPATH=/fake/path/foo/bar; python3 code/env.py)"
   ]
  },
  {
   "cell_type": "markdown",
   "metadata": {},
   "source": [
    "- lets say we write a script called foobar.py which contains 2 functions:\n",
    "  - foo()\n",
    "  - bar()\n",
    "- In a different file say, importeg.py I want to invoke these functions\n",
    "- Python will look for the module name (foobar) within built-ins and in place where it can find standard python modules or packages\n",
    "- Since it wont find foo() it will exit with name error\n",
    "- We need to tell python where to find foobar module which contains the foo()\n",
    "  - python provides the **import** statement to specify the module or package\n",
    "  - There are a few variations of using the import statement\n",
    "  - Enteries get added to the python intepretors symbol table\n",
    "  - using modulename.functionname() we invoke the function named functionaname\n",
    "  "
   ]
  },
  {
   "cell_type": "markdown",
   "metadata": {},
   "source": [
    "![from module](images/Lecture-5.005.png)\n",
    "![from_module multiple functions](images/Lecture-5.006.png)\n",
    "![import star](images/Lecture-5.007.png)\n",
    "![import as](images/Lecture-5.008.png)"
   ]
  },
  {
   "cell_type": "markdown",
   "metadata": {},
   "source": [
    "## What is a Package\n",
    "- A directory containing  files with .py extension\n",
    "- May contain directories which in turn contains files with .py extension\n",
    "- The name of the directory is the name of the package\n",
    "  - the name of the subdirectories are the names of the sub packages\n",
    "- Packages have __init__.py which could be empty or have initialization code\n",
    "\n"
   ]
  },
  {
   "cell_type": "markdown",
   "metadata": {},
   "source": [
    "![import as](images/Lecture-5.009.png)\n",
    "![import as](images/Lecture-5.010.png)"
   ]
  },
  {
   "cell_type": "markdown",
   "metadata": {},
   "source": [
    "## Absolute and Relative import\n",
    "- from surround.py\n",
    "  from . import echo\n",
    "  \n",
    "- from surround.py\n",
    "  from sound.effect import echo\n",
    "  "
   ]
  },
  {
   "cell_type": "markdown",
   "metadata": {},
   "source": [
    "## Experimentation\n",
    "- a.py imports b\n",
    "- b.py imports c"
   ]
  },
  {
   "cell_type": "code",
   "execution_count": 1,
   "metadata": {},
   "outputs": [
    {
     "name": "stdout",
     "output_type": "stream",
     "text": [
      "import b\r\n",
      "\r\n",
      "print(\"From a.py,  __name__ = \", __name__)\r\n",
      "print(\"From a.py, calling b.b()\")\r\n",
      "b.b()\r\n",
      "\r\n",
      "print(\"From a.py, Calling b.c.c()\")\r\n",
      "b.c.c()\r\n",
      "\r\n",
      "\r\n"
     ]
    }
   ],
   "source": [
    "!cat code/a.py"
   ]
  },
  {
   "cell_type": "code",
   "execution_count": 2,
   "metadata": {
    "scrolled": true
   },
   "outputs": [
    {
     "name": "stdout",
     "output_type": "stream",
     "text": [
      "import c\r\n",
      "\r\n",
      "print(\"From b.py,  __name_ = _\", __name__)\r\n",
      "\r\n",
      "def b():\r\n",
      "    print(\"In b.py::b()\")\r\n",
      "    print(\"From b.py, calling c.c()\")\r\n",
      "    c.c()\r\n"
     ]
    }
   ],
   "source": [
    "!cat code/b.py"
   ]
  },
  {
   "cell_type": "code",
   "execution_count": 3,
   "metadata": {},
   "outputs": [
    {
     "name": "stdout",
     "output_type": "stream",
     "text": [
      "print(\"From c.py,  __name__ = \", __name__)\r\n",
      "\r\n",
      "def c():\r\n",
      "    print(\"In c.py::c()\")\r\n"
     ]
    }
   ],
   "source": [
    "!cat code/c.py"
   ]
  },
  {
   "cell_type": "code",
   "execution_count": 7,
   "metadata": {},
   "outputs": [
    {
     "name": "stdout",
     "output_type": "stream",
     "text": [
      "From c.py,  __name__ =  c\r\n",
      "From b.py,  __name__ =  b\r\n",
      "From a.py,  __name__ =  __main__\r\n",
      "From a.py, calling b.b()\r\n",
      "In b.py::b()\r\n",
      "From b.py, calling c.c()\r\n",
      "In c.py::c()\r\n",
      "From a.py, Calling b.c.c()\r\n",
      "In c.py::c()\r\n"
     ]
    }
   ],
   "source": [
    "!python3 code/a.py"
   ]
  },
  {
   "cell_type": "markdown",
   "metadata": {},
   "source": [
    "## Optional Review"
   ]
  },
  {
   "cell_type": "markdown",
   "metadata": {},
   "source": [
    "```\n",
    "pkg\n",
    "├── main1.py\n",
    "├── main2.py\n",
    "├── main3.py\n",
    "├── main4.py\n",
    "├── main5.py\n",
    "├── main6.py\n",
    "├── main7.py\n",
    "├── main8.py\n",
    "└── sound\n",
    "    ├── audio.py\n",
    "    ├── effects\n",
    "    │   ├── echo.py\n",
    "    │   ├── __init__.py\n",
    "    │   └── surround.py\n",
    "    ├── filters\n",
    "    │   ├── equalizer.py\n",
    "    │   └── __init__.py\n",
    "    ├── format\n",
    "    │   ├── __init__.py\n",
    "    │   ├── mp3.py\n",
    "    │   └── wave.py\n",
    "    └── __init__.py\n",
    "    \n",
    "```\n",
    "- Review main[1-8].py files\n",
    "- Execute them as shown below"
   ]
  },
  {
   "cell_type": "code",
   "execution_count": 12,
   "metadata": {},
   "outputs": [
    {
     "name": "stdout",
     "output_type": "stream",
     "text": [
      "import sound\r\n",
      "\r\n",
      "print(\"In main1.py, dir(): \", dir())\r\n",
      "print(\"In main1.py, dir(sound): \", dir(sound))\r\n",
      "\r\n",
      "try:\r\n",
      "    print(\"In main1.py, calling sound.audio()\")\r\n",
      "    sound.audio()\r\n",
      "except AttributeError:\r\n",
      "    print(\"AttributeError, cant find sound.audio\")\r\n",
      "\r\n"
     ]
    }
   ],
   "source": [
    "!cat code/pkg/main1.py"
   ]
  },
  {
   "cell_type": "code",
   "execution_count": 10,
   "metadata": {},
   "outputs": [
    {
     "name": "stdout",
     "output_type": "stream",
     "text": [
      "In sound/__init__.py\r\n",
      "In main1.py, dir():  ['__builtins__', '__cached__', '__doc__', '__file__', '__loader__', '__name__', '__package__', '__spec__', 'sound']\r\n",
      "In main1.py, dir(sound):  ['__all__', '__builtins__', '__cached__', '__doc__', '__file__', '__loader__', '__name__', '__package__', '__path__', '__spec__']\r\n",
      "In main1.py, calling sound.audio()\r\n",
      "AttributeError, cant find sound.audio\r\n"
     ]
    }
   ],
   "source": [
    "!python3 code/pkg/main1.py"
   ]
  },
  {
   "cell_type": "code",
   "execution_count": 11,
   "metadata": {},
   "outputs": [
    {
     "name": "stdout",
     "output_type": "stream",
     "text": [
      "In sound/__init__.py\r\n",
      "In main2.py, dir():  ['__builtins__', '__cached__', '__doc__', '__file__', '__loader__', '__name__', '__package__', '__spec__', 'sound']\r\n",
      "In main2.py, dir(sound.audio):  ['__builtins__', '__cached__', '__doc__', '__file__', '__loader__', '__name__', '__package__', '__spec__', 'audio']\r\n",
      "In main2.py, calling sound.audio.audio()\r\n",
      "From sound/audio.py, in audio()\r\n"
     ]
    }
   ],
   "source": [
    "!python3 code/pkg/main2.py"
   ]
  },
  {
   "cell_type": "markdown",
   "metadata": {},
   "source": [
    "## References \n",
    "1. <a href=https://docs.python.org/3.6/tutorial/modules.html#packages> Packages Tutorial</a>\n",
    "\n",
    "2. <a href=https://chrisyeh96.github.io/2017/08/08/definitive-guide-python-imports.html> Definitive Guide to Import Statements by Chris Yeh </a>\n",
    "\n"
   ]
  },
  {
   "cell_type": "code",
   "execution_count": 7,
   "metadata": {},
   "outputs": [
    {
     "data": {
      "text/plain": [
       "module"
      ]
     },
     "execution_count": 7,
     "metadata": {},
     "output_type": "execute_result"
    }
   ],
   "source": [
    "import sys\n",
    "type(sys)"
   ]
  },
  {
   "cell_type": "code",
   "execution_count": 8,
   "metadata": {},
   "outputs": [
    {
     "data": {
      "text/plain": [
       "<module 'sys' (built-in)>"
      ]
     },
     "execution_count": 8,
     "metadata": {},
     "output_type": "execute_result"
    }
   ],
   "source": [
    "sys"
   ]
  },
  {
   "cell_type": "code",
   "execution_count": 16,
   "metadata": {},
   "outputs": [
    {
     "data": {
      "text/plain": [
       "<module 'email.mime.text' from '/usr/lib/python3.5/email/mime/text.py'>"
      ]
     },
     "execution_count": 16,
     "metadata": {},
     "output_type": "execute_result"
    }
   ],
   "source": [
    "import email.mime.text\n",
    "email.mime.text"
   ]
  },
  {
   "cell_type": "markdown",
   "metadata": {},
   "source": [
    "## Check module's path"
   ]
  },
  {
   "cell_type": "code",
   "execution_count": 17,
   "metadata": {},
   "outputs": [
    {
     "data": {
      "text/plain": [
       "['/usr/lib/python3.5/email/mime']"
      ]
     },
     "execution_count": 17,
     "metadata": {},
     "output_type": "execute_result"
    }
   ],
   "source": [
    "email.mime.__path__"
   ]
  },
  {
   "cell_type": "code",
   "execution_count": 18,
   "metadata": {},
   "outputs": [
    {
     "data": {
      "text/plain": [
       "['/usr/lib/python3.5/email']"
      ]
     },
     "execution_count": 18,
     "metadata": {},
     "output_type": "execute_result"
    }
   ],
   "source": [
    "email.__path__"
   ]
  },
  {
   "cell_type": "markdown",
   "metadata": {},
   "source": [
    "## Recap\n",
    "- We looked into developing scripts and refactoring them\n",
    "- Different ways to import modules and packages\n",
    "- dir() lists names in current scope"
   ]
  },
  {
   "cell_type": "markdown",
   "metadata": {},
   "source": [
    "## Assignment\n",
    "- Python Built-in Modules Writing Assignment"
   ]
  },
  {
   "cell_type": "markdown",
   "metadata": {},
   "source": [
    "## Quiz\n",
    "- Quiz 5"
   ]
  }
 ],
 "metadata": {
  "kernelspec": {
   "display_name": "Python 3",
   "language": "python",
   "name": "python3"
  },
  "language_info": {
   "codemirror_mode": {
    "name": "ipython",
    "version": 3
   },
   "file_extension": ".py",
   "mimetype": "text/x-python",
   "name": "python",
   "nbconvert_exporter": "python",
   "pygments_lexer": "ipython3",
   "version": "3.5.2"
  }
 },
 "nbformat": 4,
 "nbformat_minor": 2
}
