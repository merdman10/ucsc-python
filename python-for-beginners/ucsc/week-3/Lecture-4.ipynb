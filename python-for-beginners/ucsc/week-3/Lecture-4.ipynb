{
 "cells": [
  {
   "cell_type": "markdown",
   "metadata": {},
   "source": [
    "## Lecture 4\n",
    "-  Built-ins\n",
    "-  basic import\n",
    "-  Function definition and invocation\n",
    "-  Documenting a function\n",
    "-  Default arguments\n",
    "-  Global and local variables\n",
    "-  Variable arguments\n",
    "-  Experimentation\n",
    "-  Quiz 2"
   ]
  },
  {
   "cell_type": "markdown",
   "metadata": {},
   "source": [
    "## Builtin Functions\n",
    "-  Python has an extensive collections of useful functions\n",
    "   - The Python interpreter has a number of functions built into it that are always available\n",
    "-  So far we have used a few of them namely:\n",
    "   - print(\"Hello World!\")  # outputs the string \"Hello World!\" on screen\n",
    "   - type(\"Hello World!\")   # finds out the type of the variable\n",
    "   - int(\"333\")             # converts a string \"333\" to integer 333\n",
    "   - str(33)                # converts an integer to string \"33\"\n",
    "   - input(\"Enter an integer\") # read a strings from standard in (keyboard)\n",
    "   - float(\"3.1415\")        # converts a string \"3.1415\" into a float"
   ]
  },
  {
   "cell_type": "markdown",
   "metadata": {},
   "source": [
    "| Built-in Functions |\n",
    "| ---- |\t---- \t| ---- |\t---- \t| ---- |   \n",
    "| abs()  |\tdict() \t| help() |\tmin() \t| setattr() |\n",
    "| all() |\tdir() |\thex() |\tnext() |\tslice() |\n",
    "| any() |\tdivmod() |\tid() |\tobject() |\tsorted() |\n",
    "| ascii() |\tenumerate() |\tinput() |\toct() |\tstaticmethod() |\n",
    "| bin() |\teval() |\tint() |\topen() |\tstr() |\n",
    "| bool() |\texec() |\tisinstance() |\tord() |\tsum() |\n",
    "| bytearray() |\tfilter() |\tissubclass() |\tpow() |\tsuper() |\n",
    "| bytes() |\tfloat() |\titer() |\tprint() |\ttuple() |\n",
    "| callable() |\tformat() |\tlen() |\tproperty() |\ttype() |\n",
    "| chr() |\tfrozenset() |\tlist() |\trange() |\tvars() |\n",
    "| classmethod() |\tgetattr() |\tlocals() |\trepr() |\tzip() |\n",
    "| compile() |\tglobals() |\tmap() |\treversed() |\t__import__() |\n",
    "| complex() |\thasattr() |\tmax() |\tround() |\t \n",
    "| delattr() |\thash() |\tmemoryview() |\tset() |\t \n"
   ]
  },
  {
   "cell_type": "markdown",
   "metadata": {},
   "source": [
    "- Lets learn few more useful builtin functions\n",
    "  - help()\n",
    "    - can be invoked as help() or help(object). E.g. help(len)\n",
    "  - len()\n",
    "  - range()\n",
    "  - id()"
   ]
  },
  {
   "cell_type": "markdown",
   "metadata": {},
   "source": [
    "### Help"
   ]
  },
  {
   "cell_type": "code",
   "execution_count": 5,
   "metadata": {},
   "outputs": [
    {
     "name": "stdout",
     "output_type": "stream",
     "text": [
      "\n",
      "Welcome to Python 3.5's help utility!\n",
      "\n",
      "If this is your first time using Python, you should definitely check out\n",
      "the tutorial on the Internet at http://docs.python.org/3.5/tutorial/.\n",
      "\n",
      "Enter the name of any module, keyword, or topic to get help on writing\n",
      "Python programs and using Python modules.  To quit this help utility and\n",
      "return to the interpreter, just type \"quit\".\n",
      "\n",
      "To get a list of available modules, keywords, symbols, or topics, type\n",
      "\"modules\", \"keywords\", \"symbols\", or \"topics\".  Each module also comes\n",
      "with a one-line summary of what it does; to list the modules whose name\n",
      "or summary contain a given string such as \"spam\", type \"modules spam\".\n",
      "\n",
      "help> len\n",
      "Help on built-in function len in module builtins:\n",
      "\n",
      "len(obj, /)\n",
      "    Return the number of items in a container.\n",
      "\n",
      "help> quit\n",
      "\n",
      "You are now leaving help and returning to the Python interpreter.\n",
      "If you want to ask for help on a particular object directly from the\n",
      "interpreter, you can type \"help(object)\".  Executing \"help('string')\"\n",
      "has the same effect as typing a particular string at the help> prompt.\n"
     ]
    }
   ],
   "source": [
    "help()  # enter quit exit out of help"
   ]
  },
  {
   "cell_type": "markdown",
   "metadata": {},
   "source": [
    "### Len"
   ]
  },
  {
   "cell_type": "code",
   "execution_count": 10,
   "metadata": {},
   "outputs": [
    {
     "data": {
      "text/plain": [
       "8"
      ]
     },
     "execution_count": 10,
     "metadata": {},
     "output_type": "execute_result"
    }
   ],
   "source": [
    "len(\"12345678\")  # returns the length of the string"
   ]
  },
  {
   "cell_type": "markdown",
   "metadata": {},
   "source": [
    "range(stop) \n",
    "range(start, stop[, step])\n",
    "- Return an object that produces a sequence of integers from start (inclusive) to stop (exclusive) by step. \n",
    "  - range(i, j) produces i, i+1, i+2, ..., j-1.\n",
    "  - start defaults to 0, and step is omitted! \n",
    "  - range(4) produces 0, 1, 2, 3\n",
    "  - When step is given, it specifies the increment (or decrement)"
   ]
  },
  {
   "cell_type": "markdown",
   "metadata": {},
   "source": [
    "### Range"
   ]
  },
  {
   "cell_type": "code",
   "execution_count": 42,
   "metadata": {},
   "outputs": [
    {
     "data": {
      "text/plain": [
       "[0, 1, 2, 3, 4, 5, 6, 7, 8, 9]"
      ]
     },
     "execution_count": 42,
     "metadata": {},
     "output_type": "execute_result"
    }
   ],
   "source": [
    "range(10)         # returns numbers 0, 1, 2, 3, 4, 5, 6, 7, 8, 9"
   ]
  },
  {
   "cell_type": "code",
   "execution_count": 41,
   "metadata": {},
   "outputs": [
    {
     "data": {
      "text/plain": [
       "range(1, 11, 2)"
      ]
     },
     "execution_count": 41,
     "metadata": {},
     "output_type": "execute_result"
    }
   ],
   "source": [
    "range(1,11,2)     # returns odd numbers 1, 3, 5, 7, 9"
   ]
  },
  {
   "cell_type": "code",
   "execution_count": 43,
   "metadata": {},
   "outputs": [
    {
     "data": {
      "text/plain": [
       "[-1, -2, -3, -4, -5, -6, -7, -8, -9]"
      ]
     },
     "execution_count": 43,
     "metadata": {},
     "output_type": "execute_result"
    }
   ],
   "source": [
    "range(-1,-10,-1)  # returns numbers -1, -2, -3, -4, -5, -6, -7, -8, -9"
   ]
  },
  {
   "cell_type": "markdown",
   "metadata": {},
   "source": [
    "### Id"
   ]
  },
  {
   "cell_type": "code",
   "execution_count": 44,
   "metadata": {},
   "outputs": [
    {
     "name": "stdout",
     "output_type": "stream",
     "text": [
      "Help on built-in function id in module builtins:\n",
      "\n",
      "id(obj, /)\n",
      "    Return the identity of an object.\n",
      "    \n",
      "    This is guaranteed to be unique among simultaneously existing objects.\n",
      "    (CPython uses the object's memory address.)\n",
      "\n"
     ]
    }
   ],
   "source": [
    "help(id)"
   ]
  },
  {
   "cell_type": "markdown",
   "metadata": {},
   "source": [
    "- Everything in python are objects and they have an unique ID"
   ]
  },
  {
   "cell_type": "code",
   "execution_count": 45,
   "metadata": {},
   "outputs": [
    {
     "data": {
      "text/plain": [
       "140519656689736"
      ]
     },
     "execution_count": 45,
     "metadata": {},
     "output_type": "execute_result"
    }
   ],
   "source": [
    "PI=3.1415\n",
    "id(PI)"
   ]
  },
  {
   "cell_type": "code",
   "execution_count": 46,
   "metadata": {},
   "outputs": [
    {
     "data": {
      "text/plain": [
       "140519656685168"
      ]
     },
     "execution_count": 46,
     "metadata": {},
     "output_type": "execute_result"
    }
   ],
   "source": [
    "id(\"Hello World!\")"
   ]
  },
  {
   "cell_type": "code",
   "execution_count": 52,
   "metadata": {
    "scrolled": true
   },
   "outputs": [
    {
     "data": {
      "text/plain": [
       "140519656689736"
      ]
     },
     "execution_count": 52,
     "metadata": {},
     "output_type": "execute_result"
    }
   ],
   "source": [
    "PI_2 = PI\n",
    "id(PI_2)   # PI and PI_2 are names which point to the same float object"
   ]
  },
  {
   "cell_type": "markdown",
   "metadata": {},
   "source": [
    "## Binding of names and values"
   ]
  },
  {
   "cell_type": "code",
   "execution_count": 2,
   "metadata": {
    "scrolled": true
   },
   "outputs": [
    {
     "name": "stdout",
     "output_type": "stream",
     "text": [
      "a: 50 id: 10915936 b: 50 id: 10915936\n",
      "a: 50 id: 10915936 b: 10 id: 10914656\n"
     ]
    }
   ],
   "source": [
    "a = b = 50\n",
    "print (\"a:\",a, \"id:\", id(a), \"b:\",b, \"id:\",id(b))\n",
    "\n",
    "b=10\n",
    "print (\"a:\",a, \"id:\", id(a), \"b:\",b, \"id:\",id(b))"
   ]
  },
  {
   "cell_type": "markdown",
   "metadata": {},
   "source": [
    "## Import"
   ]
  },
  {
   "cell_type": "markdown",
   "metadata": {},
   "source": [
    "- We looked into a few useful builtins, which are python functions availabe in the interpreter\n",
    "- There are lot more amazing functions available as modules in python\n",
    "  - There are python standard libraries and open source libraries/modules\n",
    "  - Think about them as separate python programs which we need to import them\n",
    "  - Basically include them into our program to use them\n",
    "  - math is such a module which can be imported into our code\n",
    "  - We will look into importing in detail in later lectures\n",
    "  - Modules contains variable, functions and classes\n",
    "  - Lets look at a simple example"
   ]
  },
  {
   "cell_type": "code",
   "execution_count": 72,
   "metadata": {},
   "outputs": [
    {
     "data": {
      "text/plain": [
       "3.141592653589793"
      ]
     },
     "execution_count": 72,
     "metadata": {},
     "output_type": "execute_result"
    }
   ],
   "source": [
    "import math\n",
    "math.pi"
   ]
  },
  {
   "cell_type": "markdown",
   "metadata": {},
   "source": [
    "### Dir"
   ]
  },
  {
   "cell_type": "markdown",
   "metadata": {},
   "source": [
    "- dir(module) to find out what is available in that module"
   ]
  },
  {
   "cell_type": "code",
   "execution_count": 39,
   "metadata": {},
   "outputs": [
    {
     "name": "stdout",
     "output_type": "stream",
     "text": [
      "Help on built-in function dir in module builtins:\n",
      "\n",
      "dir(...)\n",
      "    dir([object]) -> list of strings\n",
      "    \n",
      "    If called without an argument, return the names in the current scope.\n",
      "    Else, return an alphabetized list of names comprising (some of) the attributes\n",
      "    of the given object, and of attributes reachable from it.\n",
      "    If the object supplies a method named __dir__, it will be used; otherwise\n",
      "    the default dir() logic is used and returns:\n",
      "      for a module object: the module's attributes.\n",
      "      for a class object:  its attributes, and recursively the attributes\n",
      "        of its bases.\n",
      "      for any other object: its attributes, its class's attributes, and\n",
      "        recursively the attributes of its class's base classes.\n",
      "\n"
     ]
    }
   ],
   "source": [
    "help(dir)"
   ]
  },
  {
   "cell_type": "code",
   "execution_count": 18,
   "metadata": {},
   "outputs": [
    {
     "data": {
      "text/plain": [
       "['__doc__',\n",
       " '__loader__',\n",
       " '__name__',\n",
       " '__package__',\n",
       " '__spec__',\n",
       " 'acos',\n",
       " 'acosh',\n",
       " 'asin',\n",
       " 'asinh',\n",
       " 'atan',\n",
       " 'atan2',\n",
       " 'atanh',\n",
       " 'ceil',\n",
       " 'copysign',\n",
       " 'cos',\n",
       " 'cosh',\n",
       " 'degrees',\n",
       " 'e',\n",
       " 'erf',\n",
       " 'erfc',\n",
       " 'exp',\n",
       " 'expm1',\n",
       " 'fabs',\n",
       " 'factorial',\n",
       " 'floor',\n",
       " 'fmod',\n",
       " 'frexp',\n",
       " 'fsum',\n",
       " 'gamma',\n",
       " 'gcd',\n",
       " 'hypot',\n",
       " 'inf',\n",
       " 'isclose',\n",
       " 'isfinite',\n",
       " 'isinf',\n",
       " 'isnan',\n",
       " 'ldexp',\n",
       " 'lgamma',\n",
       " 'log',\n",
       " 'log10',\n",
       " 'log1p',\n",
       " 'log2',\n",
       " 'modf',\n",
       " 'nan',\n",
       " 'pi',\n",
       " 'pow',\n",
       " 'radians',\n",
       " 'sin',\n",
       " 'sinh',\n",
       " 'sqrt',\n",
       " 'tan',\n",
       " 'tanh',\n",
       " 'trunc']"
      ]
     },
     "execution_count": 18,
     "metadata": {},
     "output_type": "execute_result"
    }
   ],
   "source": [
    "dir(math)   # lists available functions in math module"
   ]
  },
  {
   "cell_type": "code",
   "execution_count": 19,
   "metadata": {},
   "outputs": [
    {
     "name": "stdout",
     "output_type": "stream",
     "text": [
      "Help on built-in function sqrt in module math:\n",
      "\n",
      "sqrt(...)\n",
      "    sqrt(x)\n",
      "    \n",
      "    Return the square root of x.\n",
      "\n"
     ]
    }
   ],
   "source": [
    "help(math.sqrt)"
   ]
  },
  {
   "cell_type": "code",
   "execution_count": 20,
   "metadata": {},
   "outputs": [
    {
     "name": "stdout",
     "output_type": "stream",
     "text": [
      "Help on built-in function pow in module math:\n",
      "\n",
      "pow(...)\n",
      "    pow(x, y)\n",
      "    \n",
      "    Return x**y (x to the power of y).\n",
      "\n"
     ]
    }
   ],
   "source": [
    "help(math.pow)"
   ]
  },
  {
   "cell_type": "code",
   "execution_count": 22,
   "metadata": {},
   "outputs": [
    {
     "data": {
      "text/plain": [
       "['BPF',\n",
       " 'LOG4',\n",
       " 'NV_MAGICCONST',\n",
       " 'RECIP_BPF',\n",
       " 'Random',\n",
       " 'SG_MAGICCONST',\n",
       " 'SystemRandom',\n",
       " 'TWOPI',\n",
       " '_BuiltinMethodType',\n",
       " '_MethodType',\n",
       " '_Sequence',\n",
       " '_Set',\n",
       " '__all__',\n",
       " '__builtins__',\n",
       " '__cached__',\n",
       " '__doc__',\n",
       " '__file__',\n",
       " '__loader__',\n",
       " '__name__',\n",
       " '__package__',\n",
       " '__spec__',\n",
       " '_acos',\n",
       " '_ceil',\n",
       " '_cos',\n",
       " '_e',\n",
       " '_exp',\n",
       " '_inst',\n",
       " '_log',\n",
       " '_pi',\n",
       " '_random',\n",
       " '_sha512',\n",
       " '_sin',\n",
       " '_sqrt',\n",
       " '_test',\n",
       " '_test_generator',\n",
       " '_urandom',\n",
       " '_warn',\n",
       " 'betavariate',\n",
       " 'choice',\n",
       " 'expovariate',\n",
       " 'gammavariate',\n",
       " 'gauss',\n",
       " 'getrandbits',\n",
       " 'getstate',\n",
       " 'lognormvariate',\n",
       " 'normalvariate',\n",
       " 'paretovariate',\n",
       " 'randint',\n",
       " 'random',\n",
       " 'randrange',\n",
       " 'sample',\n",
       " 'seed',\n",
       " 'setstate',\n",
       " 'shuffle',\n",
       " 'triangular',\n",
       " 'uniform',\n",
       " 'vonmisesvariate',\n",
       " 'weibullvariate']"
      ]
     },
     "execution_count": 22,
     "metadata": {},
     "output_type": "execute_result"
    }
   ],
   "source": [
    "help(random)"
   ]
  },
  {
   "cell_type": "code",
   "execution_count": 6,
   "metadata": {},
   "outputs": [
    {
     "data": {
      "text/plain": [
       "10"
      ]
     },
     "execution_count": 6,
     "metadata": {},
     "output_type": "execute_result"
    }
   ],
   "source": [
    "import random\n",
    "random.randint(1,10)  # outputs a random integer number from 1 to 10"
   ]
  },
  {
   "cell_type": "code",
   "execution_count": 8,
   "metadata": {},
   "outputs": [
    {
     "data": {
      "text/plain": [
       "0.3915633103948569"
      ]
     },
     "execution_count": 8,
     "metadata": {},
     "output_type": "execute_result"
    }
   ],
   "source": [
    "random.random()       # produces a random number between 0 to 1"
   ]
  },
  {
   "cell_type": "code",
   "execution_count": 14,
   "metadata": {},
   "outputs": [
    {
     "name": "stdout",
     "output_type": "stream",
     "text": [
      "Mon Jul  9 16:54:20 2018\n",
      "Sleeping 5 seconds ...\n",
      "Mon Jul  9 16:54:25 2018\n"
     ]
    }
   ],
   "source": [
    "import time\n",
    "print (time.asctime())\n",
    "print (\"Sleeping 5 seconds ...\")\n",
    "time.sleep(5)\n",
    "print (time.asctime())"
   ]
  },
  {
   "cell_type": "markdown",
   "metadata": {},
   "source": [
    "## Functions\n",
    "    - Why functions?\n",
    "      - When we write python code, we are adding one statement at a time\n",
    "      - When we look back we would realize that few lines of code here and there keeps repeating\n",
    "      - If we find a defect in the repeated code we need to make changes to several places\n",
    "      - In that processes we could add more defects :)\n",
    "      - Wont it be nice to organize the repeated code?\n",
    "      \n",
    "    - What is a function?\n",
    "      - A named sequence of statement(s)\n",
    "      - It takes zero or more input parameters\n",
    "      - It returns zero or more output values\n",
    "      - It makes code reusable and modular\n",
    "      - Once a function is defined, we need to call or invoke that function\n",
    "      \n",
    "![Function](images/Lecture-4.002.png)"
   ]
  },
  {
   "cell_type": "markdown",
   "metadata": {},
   "source": [
    "### Do Nothing Function\n",
    "\n",
    "![Function](images/Lecture-4.003.png)"
   ]
  },
  {
   "cell_type": "code",
   "execution_count": 24,
   "metadata": {
    "collapsed": true
   },
   "outputs": [],
   "source": [
    "def do_nothing_function():  # function definition\n",
    "    pass                    # null operation\n",
    "\n",
    "do_nothing_function()       # function is called"
   ]
  },
  {
   "cell_type": "markdown",
   "metadata": {},
   "source": [
    "### Greetings Function"
   ]
  },
  {
   "cell_type": "code",
   "execution_count": 101,
   "metadata": {},
   "outputs": [
    {
     "name": "stdout",
     "output_type": "stream",
     "text": [
      "Greetings!\n"
     ]
    }
   ],
   "source": [
    "def greetings():  # function definition\n",
    "    print(\"Greetings!\")\n",
    "\n",
    "greetings()       # function is called"
   ]
  },
  {
   "cell_type": "markdown",
   "metadata": {},
   "source": [
    "![Function](images/Lecture-4.004.png)\n",
    "### One Argument Function With no Return"
   ]
  },
  {
   "cell_type": "code",
   "execution_count": 102,
   "metadata": {},
   "outputs": [
    {
     "name": "stdout",
     "output_type": "stream",
     "text": [
      "Greetings!\n"
     ]
    }
   ],
   "source": [
    "def greetingsAgain(message):     # function definition\n",
    "    print(message)\n",
    "\n",
    "greetingsAgain(\"Greetings!\")       # function is called()"
   ]
  },
  {
   "cell_type": "markdown",
   "metadata": {},
   "source": [
    "![Function](images/Lecture-4.005.png)\n",
    "### One Argument Function which Returns None"
   ]
  },
  {
   "cell_type": "code",
   "execution_count": 103,
   "metadata": {},
   "outputs": [
    {
     "name": "stdout",
     "output_type": "stream",
     "text": [
      "Greetings!\n"
     ]
    },
    {
     "data": {
      "text/plain": [
       "NoneType"
      ]
     },
     "execution_count": 103,
     "metadata": {},
     "output_type": "execute_result"
    }
   ],
   "source": [
    "def greetingsReturnsNone(message):     # function definition\n",
    "    print(message)\n",
    "    return                             # returns None\n",
    "\n",
    "nothing = greetingsAgain(\"Greetings!\") # function is called()\n",
    "type(nothing)"
   ]
  },
  {
   "cell_type": "markdown",
   "metadata": {},
   "source": [
    "![Function](images/Lecture-4.006.png\n",
    "### One Argument Function Which Returns an Integer"
   ]
  },
  {
   "cell_type": "code",
   "execution_count": 104,
   "metadata": {},
   "outputs": [
    {
     "name": "stdout",
     "output_type": "stream",
     "text": [
      "10 Times: 20\n"
     ]
    }
   ],
   "source": [
    "def multipyBy10(a):\n",
    "    return a*10\n",
    "\n",
    "TenTimes = multipyBy10(2)\n",
    "print (\"10 Times:\", TenTimes)"
   ]
  },
  {
   "cell_type": "markdown",
   "metadata": {},
   "source": [
    "![Function](images/Lecture-4.007.png)\n",
    "### Two Argument Function Which Returns Two Integers"
   ]
  },
  {
   "cell_type": "code",
   "execution_count": 100,
   "metadata": {},
   "outputs": [
    {
     "name": "stdout",
     "output_type": "stream",
     "text": [
      "Area 16 Perimeter 16\n"
     ]
    }
   ],
   "source": [
    "def areaPerimeter(length, width):\n",
    "    return length*width, 2*(length+width)\n",
    "\n",
    "length = 4\n",
    "width = 4\n",
    "area, perimeter = areaPerimeter(length, width)\n",
    "print (\"Area\", area, \"Perimeter\", perimeter)"
   ]
  },
  {
   "cell_type": "markdown",
   "metadata": {},
   "source": [
    "## Documenting a function\n",
    "-  Clear and concise documentation always helps\n",
    "-  The first line after the function **def** contains the function document\n",
    "-  Function document is a string\n",
    "-  String can be double or single or triple quoted\n",
    "-  How do you access a function document?\n",
    "   - functionName.\\__doc\\__"
   ]
  },
  {
   "cell_type": "code",
   "execution_count": 1,
   "metadata": {},
   "outputs": [
    {
     "name": "stdout",
     "output_type": "stream",
     "text": [
      " \n",
      "    Calculates area and perimeter of a rectangle or a square \n",
      "    It takes length and width as parameters\n",
      "    Returns area and perimeter\n"
     ]
    }
   ],
   "source": [
    "def areaPerimeterDoc(length, width):\n",
    "    ''' \n",
    "    Calculates area and perimeter of a rectangle or a square \n",
    "    It takes length and width as parameters\n",
    "    Returns area and perimeter'''\n",
    "    \n",
    "    return length*width, 2*(length+width)\n",
    "\n",
    "print (areaPerimeterDoc.__doc__)  # Accessing the function doc string"
   ]
  },
  {
   "cell_type": "markdown",
   "metadata": {},
   "source": [
    "## Default Argument\n",
    "- Argument defined at function definition time"
   ]
  },
  {
   "cell_type": "code",
   "execution_count": 3,
   "metadata": {},
   "outputs": [
    {
     "name": "stdout",
     "output_type": "stream",
     "text": [
      "Hello Everyone\n",
      "Hello World!\n"
     ]
    }
   ],
   "source": [
    "def defArgument(name=\"Everyone\"):\n",
    "    print (\"Hello\", name)\n",
    "\n",
    "defArgument()           # Using default argument \"Everyone\"\n",
    "defArgument(\"World!\")   # Overriding default argument"
   ]
  },
  {
   "cell_type": "markdown",
   "metadata": {},
   "source": [
    "## Global and Local Variables"
   ]
  },
  {
   "cell_type": "code",
   "execution_count": 9,
   "metadata": {},
   "outputs": [
    {
     "ename": "NameError",
     "evalue": "name 'myLocal' is not defined",
     "output_type": "error",
     "traceback": [
      "\u001b[0;31m---------------------------------------------------------------------------\u001b[0m",
      "\u001b[0;31mNameError\u001b[0m                                 Traceback (most recent call last)",
      "\u001b[0;32m<ipython-input-9-568f22eb266e>\u001b[0m in \u001b[0;36m<module>\u001b[0;34m()\u001b[0m\n\u001b[1;32m      2\u001b[0m     \u001b[0mprint\u001b[0m \u001b[0;34m(\u001b[0m\u001b[0;34m\"local()::myLocal\"\u001b[0m\u001b[0;34m,\u001b[0m \u001b[0mmyLocal\u001b[0m\u001b[0;34m)\u001b[0m  \u001b[0;31m# myLocal is not defined.  NameError\u001b[0m\u001b[0;34m\u001b[0m\u001b[0m\n\u001b[1;32m      3\u001b[0m \u001b[0;34m\u001b[0m\u001b[0m\n\u001b[0;32m----> 4\u001b[0;31m \u001b[0mlocal\u001b[0m\u001b[0;34m(\u001b[0m\u001b[0;34m)\u001b[0m\u001b[0;34m\u001b[0m\u001b[0m\n\u001b[0m\u001b[1;32m      5\u001b[0m \u001b[0;34m\u001b[0m\u001b[0m\n",
      "\u001b[0;32m<ipython-input-9-568f22eb266e>\u001b[0m in \u001b[0;36mlocal\u001b[0;34m()\u001b[0m\n\u001b[1;32m      1\u001b[0m \u001b[0;32mdef\u001b[0m \u001b[0mlocal\u001b[0m\u001b[0;34m(\u001b[0m\u001b[0;34m)\u001b[0m\u001b[0;34m:\u001b[0m\u001b[0;34m\u001b[0m\u001b[0m\n\u001b[0;32m----> 2\u001b[0;31m     \u001b[0mprint\u001b[0m \u001b[0;34m(\u001b[0m\u001b[0;34m\"local()::myLocal\"\u001b[0m\u001b[0;34m,\u001b[0m \u001b[0mmyLocal\u001b[0m\u001b[0;34m)\u001b[0m  \u001b[0;31m# myLocal is not defined.  NameError\u001b[0m\u001b[0;34m\u001b[0m\u001b[0m\n\u001b[0m\u001b[1;32m      3\u001b[0m \u001b[0;34m\u001b[0m\u001b[0m\n\u001b[1;32m      4\u001b[0m \u001b[0mlocal\u001b[0m\u001b[0;34m(\u001b[0m\u001b[0;34m)\u001b[0m\u001b[0;34m\u001b[0m\u001b[0m\n\u001b[1;32m      5\u001b[0m \u001b[0;34m\u001b[0m\u001b[0m\n",
      "\u001b[0;31mNameError\u001b[0m: name 'myLocal' is not defined"
     ]
    }
   ],
   "source": [
    "def local():\n",
    "    print (\"local()::myLocal\", myLocal)  # myLocal is not defined.  NameError\n",
    "\n",
    "local()\n",
    "    "
   ]
  },
  {
   "cell_type": "code",
   "execution_count": 10,
   "metadata": {},
   "outputs": [
    {
     "name": "stdout",
     "output_type": "stream",
     "text": [
      "local()::myLocal 10\n"
     ]
    }
   ],
   "source": [
    "def local():\n",
    "    print(\"local()::myLocal\", myLocal)  # myLocal is not defined in this function but defined elsewhere\n",
    "\n",
    "myLocal = 10\n",
    "local()\n",
    "    "
   ]
  },
  {
   "cell_type": "code",
   "execution_count": 5,
   "metadata": {},
   "outputs": [
    {
     "name": "stdout",
     "output_type": "stream",
     "text": [
      "local()::myLocal 100\n",
      "myLocal: 10\n"
     ]
    }
   ],
   "source": [
    "def local():\n",
    "    myLocal = 100                      # a different myLocal variable, local to function\n",
    "    print(\"local()::myLocal\", myLocal)\n",
    "\n",
    "myLocal = 10\n",
    "local()\n",
    "print(\"myLocal:\", myLocal)"
   ]
  },
  {
   "cell_type": "code",
   "execution_count": 13,
   "metadata": {},
   "outputs": [
    {
     "name": "stdout",
     "output_type": "stream",
     "text": [
      "myLocal 1: 10\n",
      "local()::myLocal 100\n",
      "myLocal 2: 100\n"
     ]
    }
   ],
   "source": [
    "def local():\n",
    "    global myLocal\n",
    "    myLocal = 100\n",
    "    print(\"local()::myLocal\", myLocal)\n",
    "\n",
    "myLocal = 10\n",
    "print(\"myLocal 1:\", myLocal)\n",
    "local()\n",
    "print(\"myLocal 2:\", myLocal)"
   ]
  },
  {
   "cell_type": "markdown",
   "metadata": {},
   "source": [
    "## Function with immutable parameters"
   ]
  },
  {
   "cell_type": "code",
   "execution_count": 42,
   "metadata": {},
   "outputs": [
    {
     "name": "stdout",
     "output_type": "stream",
     "text": [
      "x:  1\n",
      "In Local, x:  1\n",
      "In Local, x:  2\n",
      "x:  1\n"
     ]
    }
   ],
   "source": [
    "## Changing function arguments inside a function\n",
    "def local(x):\n",
    "    print(\"In Local, x: \", x)\n",
    "    x +=1 \n",
    "    print(\"In Local, x: \", x)\n",
    "    \n",
    "x=1\n",
    "print(\"x: \", x)\n",
    "local(x)\n",
    "print(\"x: \", x)"
   ]
  },
  {
   "cell_type": "markdown",
   "metadata": {},
   "source": [
    "## Variable Arguments"
   ]
  },
  {
   "cell_type": "code",
   "execution_count": 4,
   "metadata": {},
   "outputs": [
    {
     "name": "stdout",
     "output_type": "stream",
     "text": [
      "First argument: 1\n",
      "variable arguments: two\n",
      "variable arguments: 3\n"
     ]
    }
   ],
   "source": [
    "def variable_arguments(first_arg, *args):\n",
    "    print(\"First argument:\", first_arg)\n",
    "    for variable_args in args:\n",
    "        print(\"variable arguments:\", variable_args)\n",
    "\n",
    "variable_arguments(1, \"two\", 3)"
   ]
  },
  {
   "cell_type": "markdown",
   "metadata": {},
   "source": [
    "## Variable Keyworded Arguments"
   ]
  },
  {
   "cell_type": "code",
   "execution_count": 8,
   "metadata": {},
   "outputs": [
    {
     "name": "stdout",
     "output_type": "stream",
     "text": [
      "First argument: 1\n",
      "Variable keyworded arg: myarg2: two\n",
      "Variable keyworded arg: myarg3: 3\n",
      "First argument: 1\n",
      "Variable keyworded arg: myarg2: two\n",
      "Variable keyworded arg: myarg3: 3\n"
     ]
    }
   ],
   "source": [
    "def variable_keyworded_arguments(first_arg, **kwargs):\n",
    "    print(\"First argument:\", first_arg)\n",
    "    for key in kwargs:\n",
    "        print(\"Variable keyworded arg: %s: %s\" % (key, kwargs[key]))\n",
    "\n",
    "variable_keyworded_arguments(first_arg=1, myarg2=\"two\", myarg3=3)\n",
    "variable_keyworded_arguments(1, myarg2=\"two\", myarg3=3)\n"
   ]
  },
  {
   "cell_type": "markdown",
   "metadata": {},
   "source": [
    "## Experimentation\n",
    "-  print the function name\n",
    "-  provide parameters to a function which takes no arguments\n",
    "-  provide less parameter than the number of function arguments\n",
    "-  assign function return to less number of variables\n",
    "-  assign function name to a new variable\n",
    "-  reuse the same function name to different function def"
   ]
  },
  {
   "cell_type": "code",
   "execution_count": 14,
   "metadata": {},
   "outputs": [
    {
     "name": "stdout",
     "output_type": "stream",
     "text": [
      "<function foo at 0x7f815041b6a8>\n"
     ]
    }
   ],
   "source": [
    "def foo():\n",
    "    pass\n",
    "print(foo)   #printing the name of a function"
   ]
  },
  {
   "cell_type": "code",
   "execution_count": 15,
   "metadata": {},
   "outputs": [
    {
     "ename": "TypeError",
     "evalue": "foo() takes 0 positional arguments but 1 was given",
     "output_type": "error",
     "traceback": [
      "\u001b[0;31m---------------------------------------------------------------------------\u001b[0m",
      "\u001b[0;31mTypeError\u001b[0m                                 Traceback (most recent call last)",
      "\u001b[0;32m<ipython-input-15-25d2aaaf79e4>\u001b[0m in \u001b[0;36m<module>\u001b[0;34m()\u001b[0m\n\u001b[1;32m      1\u001b[0m \u001b[0;32mdef\u001b[0m \u001b[0mfoo\u001b[0m\u001b[0;34m(\u001b[0m\u001b[0;34m)\u001b[0m\u001b[0;34m:\u001b[0m\u001b[0;34m\u001b[0m\u001b[0m\n\u001b[1;32m      2\u001b[0m     \u001b[0;32mpass\u001b[0m\u001b[0;34m\u001b[0m\u001b[0m\n\u001b[0;32m----> 3\u001b[0;31m \u001b[0mfoo\u001b[0m\u001b[0;34m(\u001b[0m\u001b[0;36m1\u001b[0m\u001b[0;34m)\u001b[0m  \u001b[0;31m# passing an argument to function which accepts no arguments\u001b[0m\u001b[0;34m\u001b[0m\u001b[0m\n\u001b[0m",
      "\u001b[0;31mTypeError\u001b[0m: foo() takes 0 positional arguments but 1 was given"
     ]
    }
   ],
   "source": [
    "def foo():\n",
    "    pass\n",
    "foo(1)  # passing an argument to function which accepts no arguments"
   ]
  },
  {
   "cell_type": "code",
   "execution_count": 16,
   "metadata": {},
   "outputs": [
    {
     "ename": "TypeError",
     "evalue": "foo() missing 1 required positional argument: 'b'",
     "output_type": "error",
     "traceback": [
      "\u001b[0;31m---------------------------------------------------------------------------\u001b[0m",
      "\u001b[0;31mTypeError\u001b[0m                                 Traceback (most recent call last)",
      "\u001b[0;32m<ipython-input-16-effe1d246620>\u001b[0m in \u001b[0;36m<module>\u001b[0;34m()\u001b[0m\n\u001b[1;32m      1\u001b[0m \u001b[0;32mdef\u001b[0m \u001b[0mfoo\u001b[0m\u001b[0;34m(\u001b[0m\u001b[0ma\u001b[0m\u001b[0;34m,\u001b[0m\u001b[0mb\u001b[0m\u001b[0;34m)\u001b[0m\u001b[0;34m:\u001b[0m\u001b[0;34m\u001b[0m\u001b[0m\n\u001b[1;32m      2\u001b[0m     \u001b[0;32mpass\u001b[0m\u001b[0;34m\u001b[0m\u001b[0m\n\u001b[0;32m----> 3\u001b[0;31m \u001b[0mfoo\u001b[0m\u001b[0;34m(\u001b[0m\u001b[0;36m1\u001b[0m\u001b[0;34m)\u001b[0m   \u001b[0;31m# Function expects 2 arguments,  only one is being passed\u001b[0m\u001b[0;34m\u001b[0m\u001b[0m\n\u001b[0m",
      "\u001b[0;31mTypeError\u001b[0m: foo() missing 1 required positional argument: 'b'"
     ]
    }
   ],
   "source": [
    "def foo(a,b):\n",
    "    pass\n",
    "foo(1)   # Function expects 2 arguments,  only one is being passed"
   ]
  },
  {
   "cell_type": "code",
   "execution_count": 18,
   "metadata": {},
   "outputs": [
    {
     "data": {
      "text/plain": [
       "(1, 2)"
      ]
     },
     "execution_count": 18,
     "metadata": {},
     "output_type": "execute_result"
    }
   ],
   "source": [
    "def foo():\n",
    "    return 1,2\n",
    "a = foo()     # Function returns 2 arguments\n",
    "a"
   ]
  },
  {
   "cell_type": "code",
   "execution_count": 19,
   "metadata": {},
   "outputs": [
    {
     "ename": "ValueError",
     "evalue": "not enough values to unpack (expected 3, got 2)",
     "output_type": "error",
     "traceback": [
      "\u001b[0;31m---------------------------------------------------------------------------\u001b[0m",
      "\u001b[0;31mValueError\u001b[0m                                Traceback (most recent call last)",
      "\u001b[0;32m<ipython-input-19-92e99a00d5b5>\u001b[0m in \u001b[0;36m<module>\u001b[0;34m()\u001b[0m\n\u001b[1;32m      1\u001b[0m \u001b[0;32mdef\u001b[0m \u001b[0mfoo\u001b[0m\u001b[0;34m(\u001b[0m\u001b[0;34m)\u001b[0m\u001b[0;34m:\u001b[0m\u001b[0;34m\u001b[0m\u001b[0m\n\u001b[1;32m      2\u001b[0m     \u001b[0;32mreturn\u001b[0m \u001b[0;36m1\u001b[0m\u001b[0;34m,\u001b[0m\u001b[0;36m2\u001b[0m\u001b[0;34m\u001b[0m\u001b[0m\n\u001b[0;32m----> 3\u001b[0;31m \u001b[0ma\u001b[0m\u001b[0;34m,\u001b[0m\u001b[0mb\u001b[0m\u001b[0;34m,\u001b[0m\u001b[0mc\u001b[0m \u001b[0;34m=\u001b[0m \u001b[0mfoo\u001b[0m\u001b[0;34m(\u001b[0m\u001b[0;34m)\u001b[0m  \u001b[0;31m# expecting only 2 return values\u001b[0m\u001b[0;34m\u001b[0m\u001b[0m\n\u001b[0m",
      "\u001b[0;31mValueError\u001b[0m: not enough values to unpack (expected 3, got 2)"
     ]
    }
   ],
   "source": [
    "def foo():\n",
    "    return 1,2\n",
    "a,b,c = foo()  # expecting only 2 return values"
   ]
  },
  {
   "cell_type": "code",
   "execution_count": 21,
   "metadata": {},
   "outputs": [
    {
     "name": "stdout",
     "output_type": "stream",
     "text": [
      "In foo\n"
     ]
    }
   ],
   "source": [
    "def foo():\n",
    "    print(\"In foo\")\n",
    "newFoo = foo          # assigning a new name to foo() function\n",
    "newFoo()"
   ]
  },
  {
   "cell_type": "code",
   "execution_count": 23,
   "metadata": {},
   "outputs": [
    {
     "name": "stdout",
     "output_type": "stream",
     "text": [
      "In Foo\n",
      "In Different Foo\n"
     ]
    }
   ],
   "source": [
    "def foo():\n",
    "    print(\"In Foo\")\n",
    "\n",
    "foo()\n",
    "\n",
    "def foo():\n",
    "    print(\"In Different Foo\")\n",
    "\n",
    "foo()"
   ]
  },
  {
   "cell_type": "markdown",
   "metadata": {},
   "source": [
    "## Recursion\n",
    "- What happens when a function call itself?\n",
    "- Could make solving some problems easier\n",
    "- But hard to understand and debug\n",
    "- Need a terminating case else will lead to infinite calls \n",
    "    - maximum recursion depth exceeded"
   ]
  },
  {
   "cell_type": "code",
   "execution_count": null,
   "metadata": {
    "collapsed": true,
    "scrolled": false
   },
   "outputs": [],
   "source": [
    "def recursion(i):\n",
    "    print(\"Going to call recursion({})...\".format(i))\n",
    "    recursion(i+1)\n",
    "\n",
    "recursion(1)"
   ]
  },
  {
   "cell_type": "markdown",
   "metadata": {},
   "source": [
    "### Factorial"
   ]
  },
  {
   "cell_type": "code",
   "execution_count": null,
   "metadata": {
    "collapsed": true
   },
   "outputs": [],
   "source": [
    "# Factorial of 1 is 1\n",
    "# Factorial of 2 is 1x2\n",
    "# Factorial of 3 is 1x2x3\n",
    "# Factorial of 4 is 1x2x3x4\n",
    "\n",
    "# Factorial of n is factorial of n-1 x n\n",
    "\n",
    "\n",
    "\n",
    "def factorial_forloop(n):\n",
    "    result = 1\n",
    "    for i in range(1,n+1):\n",
    "        result *=i\n",
    "    return result\n",
    "\n",
    "n=10\n",
    "f=factorial_forloop(n)\n",
    "print(\"Factorial of {} is {}\".format(n,f))\n",
    "print (\"1*2*3*4*5*6*7*8*9*10 = {}\".format( 1*2*3*4*5*6*7*8*9*10))"
   ]
  },
  {
   "cell_type": "code",
   "execution_count": null,
   "metadata": {
    "collapsed": true
   },
   "outputs": [],
   "source": [
    "# using recursion to calculate factorial\n",
    "def factorial(n):\n",
    "    if n == 1:\n",
    "       return 1\n",
    "    return n*factorial(n-1)\n",
    "\n",
    "x = factorial(10)\n",
    "print(\"factorial 10:\", x)"
   ]
  },
  {
   "cell_type": "code",
   "execution_count": 34,
   "metadata": {},
   "outputs": [
    {
     "name": "stdout",
     "output_type": "stream",
     "text": [
      "factorial 10: 3628800\n"
     ]
    }
   ],
   "source": [
    "#  Concise, using return if else and recursion\n",
    "def factorial(n):\n",
    "    return n*factorial(n-1) if n != 1 else 1\n",
    "\n",
    "x = factorial(10)\n",
    "print(\"factorial 10:\", x)"
   ]
  },
  {
   "cell_type": "markdown",
   "metadata": {},
   "source": [
    "### Fibonacci Series"
   ]
  },
  {
   "cell_type": "code",
   "execution_count": 35,
   "metadata": {},
   "outputs": [
    {
     "name": "stdout",
     "output_type": "stream",
     "text": [
      "0 1 1 2 3 5 8 13 21 34 "
     ]
    }
   ],
   "source": [
    "# 0, 1, sum of the last 2, ...\n",
    "# Calculating Fibonacci using While loop\n",
    "\n",
    "def fib_whileloop(n):\n",
    "    a,b = 0,1\n",
    "    while b <= num:\n",
    "        a,b = b, a+b\n",
    "    return a\n",
    "\n",
    "for i in range(10):\n",
    "    print(fib(i), end=' ')"
   ]
  },
  {
   "cell_type": "code",
   "execution_count": 36,
   "metadata": {},
   "outputs": [
    {
     "name": "stdout",
     "output_type": "stream",
     "text": [
      "0 1 1 2 3 5 8 13 21 34 "
     ]
    }
   ],
   "source": [
    "def fib(n):\n",
    "    if n<=1:\n",
    "        return n\n",
    "    else: return fib(n-1)+fib(n-2)\n",
    "\n",
    "for i in range(10):\n",
    "    print(fib(i), end=' ')"
   ]
  },
  {
   "cell_type": "code",
   "execution_count": 38,
   "metadata": {},
   "outputs": [
    {
     "name": "stdout",
     "output_type": "stream",
     "text": [
      "0 1 1 2 3 5 8 13 21 34 "
     ]
    }
   ],
   "source": [
    "# concise, using return if else\n",
    "def fib(n):\n",
    "    return n if n <=1 else fib(n-1)+fib(n-2)\n",
    "\n",
    "for i in range(10):\n",
    "    print(fib(i), end=' ')"
   ]
  },
  {
   "cell_type": "markdown",
   "metadata": {},
   "source": [
    "## Recap\n",
    "- We looked into builtins such as help(), len(), range(), id(), dir()\n",
    "- Quickly looked into how we can import a python module using basic import statement\n",
    "  - we imported math, random and time modules\n",
    "-  How to define functions and call them\n",
    "-  How functionName.\\__doc\\__ displays a function's document string\n",
    "-  Default arguments which provide default values which can be overridden by the caller\n",
    "-  Global and local variables scope within function\n",
    "-  Functions with immutable parameters\n",
    "-  Variable and keyworded arguments\n",
    "-  Recursion"
   ]
  },
  {
   "cell_type": "markdown",
   "metadata": {},
   "source": [
    "## Assignments\n",
    "- Functions Assignment\n",
    "- Functions Writing Assignment"
   ]
  },
  {
   "cell_type": "markdown",
   "metadata": {},
   "source": [
    "## Quiz\n",
    "- Quiz 4"
   ]
  }
 ],
 "metadata": {
  "kernelspec": {
   "display_name": "Python 3",
   "language": "python",
   "name": "python3"
  },
  "language_info": {
   "codemirror_mode": {
    "name": "ipython",
    "version": 3
   },
   "file_extension": ".py",
   "mimetype": "text/x-python",
   "name": "python",
   "nbconvert_exporter": "python",
   "pygments_lexer": "ipython3",
   "version": "3.5.2"
  }
 },
 "nbformat": 4,
 "nbformat_minor": 2
}
